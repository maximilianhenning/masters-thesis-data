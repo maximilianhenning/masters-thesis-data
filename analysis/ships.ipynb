{
 "cells": [
  {
   "cell_type": "code",
   "execution_count": 145,
   "id": "4b723657",
   "metadata": {},
   "outputs": [],
   "source": [
    "import pandas as pd\n",
    "import re\n",
    "import seaborn as sns\n",
    "import matplotlib.pyplot as plt"
   ]
  },
  {
   "cell_type": "code",
   "execution_count": 7,
   "id": "691e6025",
   "metadata": {},
   "outputs": [],
   "source": [
    "ships_df = pd.read_csv(\"../output/ships.csv\", sep = \";\", encoding = \"utf8\")"
   ]
  },
  {
   "cell_type": "markdown",
   "id": "db259acb",
   "metadata": {},
   "source": [
    "Ship names"
   ]
  },
  {
   "cell_type": "code",
   "execution_count": 146,
   "id": "d08716b7",
   "metadata": {},
   "outputs": [
    {
     "name": "stdout",
     "output_type": "stream",
     "text": [
      "None               474\n",
      "noble              219\n",
      "place_british      185\n",
      "names_british      176\n",
      "concept            113\n",
      "names_mythical      61\n",
      "place_asia          57\n",
      "animal_real         54\n",
      "military            29\n",
      "civilian            28\n",
      "place_other         19\n",
      "names_famous        17\n",
      "other               13\n",
      "animal_mythical     12\n",
      "place_mythical       4\n",
      "Name: name_class, dtype: int64\n"
     ]
    },
    {
     "name": "stderr",
     "output_type": "stream",
     "text": [
      "C:\\Users\\lorga\\AppData\\Local\\Temp\\ipykernel_8508\\1377125265.py:87: SettingWithCopyWarning: \n",
      "A value is trying to be set on a copy of a slice from a DataFrame.\n",
      "Try using .loc[row_indexer,col_indexer] = value instead\n",
      "\n",
      "See the caveats in the documentation: https://pandas.pydata.org/pandas-docs/stable/user_guide/indexing.html#returning-a-view-versus-a-copy\n",
      "  ship_names_df[\"name_class\"] = ship_names_df[\"name\"].apply(name_classifier)\n"
     ]
    }
   ],
   "source": [
    "ship_names_df = ships_df[[\"ship_id\", \"name\", \"built_year\"]]\n",
    "def name_classifier(name):\n",
    "    classification = \"nan\"\n",
    "    class_dict = {\n",
    "        \"military\": [\n",
    "            \"ADMIRAL\", \"GENERAL\", \"SCOUT\", \"MAJOR\", \"COMMODORE\", \"SPY\"\n",
    "        ],\n",
    "        \"civilian\": [\n",
    "            \"MERCHANT\", \"TRADER\", \"ATTENDANT\"\n",
    "        ],\n",
    "        \"noble\": [\n",
    "            \"DUKE\", \"DUCHESS\", \"LORD\", \"LADY\", \"COUNT\", \"KING\", \"QUEEN\", \"CAESAR\", \"SIR\", \"PRINCE\", \"MARQUIS\", \n",
    "            \"EARL\", \"MONARCH\", \"ROYAL\"\n",
    "        ],\n",
    "        \"place_mythical\": [\n",
    "            \"ALBION\"\n",
    "        ],\n",
    "        \"names_mythical\": [\n",
    "            \"AJAX\", \"ATLAS\", \"ACHILLES\", \"APOLLO\", \"ARIADNE\", \"AURORA\", \"AMAZON\", \"BELLONA\", \"TRITON\", \"SYREN\", \"SAMARITAN\",\n",
    "            \"NEPTUNE\", \"MINERVA\", \"HYPERION\", \"ENDYMION\", \"CERES\", \"CASSANDRA\", \"CASTOR\", \"CHILDE HAROLD\", \"DIANA\",\n",
    "            \"EURYDICE\", \"HECTOR\", \"HERCULES\", \"MERCURY\", \"ORPHEUS\", \"PERSEUS\", \"SAMPSON\", \"SOLOMON\",\n",
    "            \"ZENOBIA\"\n",
    "        ],\n",
    "        \"animal_real\":\n",
    "        [\n",
    "             \"ALLIGATOR\", \"ANTELOPE\", \"BEE\", \"BEAR\", \"WHALE\", \"SWALLOW\", \"HORSE\", \"HOUND\", \"FOX\",\n",
    "            \"FALCON\", \"EAGLE\", \"DOVE\", \"BULL\", \"DOLPHIN\", \"HAWK\", \"LION\", \"PANTHER\"\n",
    "        ],\n",
    "        \"animal_mythical\":\n",
    "        [\n",
    "             \"DRAKE\", \"DRAGON\", \"PHOENIX\"\n",
    "        ],\n",
    "        \"place_british\":\n",
    "        [\n",
    "             \"CASTLE\", \"AMERICA\", \"BEDFORD\", \"SHIRE\", \"BRIDGEWATER\", \"BLANDFORD\", \"CAERNARVON\", \"CALEDONIA\",\n",
    "            \"CAMBRIDGE\", \"CANTERBURY\", \"YORK\", \"WEXFORD\", \"UNITED KINGDOM\", \"THAMES\", \"SUSSEX\", \"SCARBOROUGH\",\n",
    "            \"NOTTINGHAM\", \"NEWCASTLE\", \"MIDDLESEX\", \"LONDON\", \"EXETER\", \"ESSEX\", \"DOVER\", \"CORNWALL\", \"KENT\",\n",
    "            \"MARLBOROUGH\", \"ANGLESEY\", \"ANKERWYKE\", \"ARRAN\", \"CHANDOS\", \"BERWICK\", \"HARWELL\", \"BOYNE\", \"CLYDE\", \n",
    "            \"COLCHESTER\", \"CHESTERFIELD\", \"CHICHESTER\", \"DEPTFORD\", \"DERBY\", \"DUBLIN\", \"ENGLAND\", \"EDINBURGH\",\n",
    "            \"FAIRFORD\", \"BOROUGH\", \"HOUGHTON\", \"HERTFORD\", \"LIVERPOOL\", \"NORTHUMBERLAND\", \"NORTHAMPTON\",\n",
    "            \"NORFOLK\", \"SHREWSBURY\", \"STORMONT\", \"SEVERN\", \"SHAFTESBURY\", \"SUFFOLK\", \"WOODFORD\", \"WORCESTER\",\n",
    "            \"WINDSOR\", \"WINCHELSEA\", \"WALPOLE\", \"WARWICK\"\n",
    "        ],\n",
    "        \"place_asia\":\n",
    "        [\n",
    "             \"ASIA\", \"BATAVIA\", \"BANGALORE\", \"BANTAM\", \"BENGAL\", \"BOMBAY\", \"BORNEO\", \"CALCUTTA\", \"CANTON\", \"INDIA\",\n",
    "            \"GANGES\", \"FORT \", \"FORMOSA\", \"COROMANDEL\", \"CARNATIC\", \"MOCHA\", \"CEYLON\", \"HINDOSTAN\", \"HOOGHLY\", \"MALABAR\",\n",
    "            \"ORIENT\", \"ORIENTAL\", \"PACIFIC\", \"PENANG\"\n",
    "        ],\n",
    "        \"place_other\":\n",
    "        [\n",
    "             \"AMERICA\", \"ALMORAH\", \"ATLANTIC\", \"HANOVER\", \"BRUNSWICK\", \"CANADA\", \"BENIN\", \"AMERICAN\", \"AFRICAN\",\n",
    "            \"MODENA\", \"EUROP\", \"EUPHRATES\", \"NILE\", \"SMYRNAOTE\", \"WATERLOO\"\n",
    "        ],\n",
    "        \"names_famous\":\n",
    "        [\n",
    "            \"AURENGZEB\", \"BARING\", \"PITT\", \"HASTINGS\", \"CLIVE\", \"WELLESLEY\"\n",
    "        ],\n",
    "        \"names_british\":\n",
    "        [\n",
    "            \"ANN\", \"ALEXANDER\", \"ALFRED\", \"ABIGAIL\", \"ADDISON\", \"AISLABIE\", \"ABERCROMBY\", \"BENJAMIN\", \"BETSY\",\n",
    "            \"ANSON\", \"ABBERTON\", \"ABINGDON\", \"ALBEMARLE\", \"BOLTON\", \"BECKENHAM\", \"BROXBORNEBURY\", \"WILLIAM\", \"THOMAS\",\n",
    "            \"SUSAN\", \"GEORGE\", \"MARY\", \"JAMES\", \"HENRY\", \"GEORGE\", \"ELIZABETH\", \"DAVID\", \"CHARLES\", \"CATHERINE\",\n",
    "            \"CAROLIN\", \"JOSIAH\", \"JONES\", \"JULIA\", \"KATHERINE\", \"ABERCROMBIE ROBINSON\", \"ALTHEA\", \"ARABELLA\", \"AUGUSTA\", \n",
    "            \"CATHARINE\", \"EGMONT\", \"ELIZA\", \"EDWARD\", \"HERBERT\", \"ISABELLA\", \"JOHN\", \"JONAS\", \"MATILDA\",\n",
    "            \"MARGARET\", \"MARIA\", \"MARTHA\", \"NANCY\", \"NATHANIEL\", \"SARA\"\n",
    "        ],\n",
    "        \"concept\":\n",
    "        [\n",
    "            \"ADVICE\", \"ADVANCE\", \"ASCENSION\", \"MERCHANT\", \"AMITY\", \"BLESSING\", \"FACTOR\",\n",
    "            \"BROTHERS\", \"WAGER\", \"UNITY\", \"UNION\", \"SUCCESS\", \"SOCIETY\", \"RESOLUTION\", \"RELEASE\", \"REGRET\", \"RECOVERY\",\n",
    "            \"OCEAN\", \"HOPE\", \"FORTITUDE\", \"EXPERIMENT\", \"EXPEDITION\", \"DISCOVERY\", \"DILIGENCE\", \"DEFENCE\",\n",
    "            \"CONSENT\", \"CONCORD\", \"BLACKAMOOR\", \"COAST\", \"COMET\", \"CORONATION\", \"ENDEAVOUR\", \"EXPECTATION\", \"EXCHANGE\",\n",
    "            \"FAME\", \"INTELLIGENCE\", \"INDUSTRY\", \"AUSPICIOUS\", \"ADVANCE\", \"ASCENSION\", \n",
    "            \"BELLE\", \"BONITO\", \"BRILLIANT\", \"DILIGENT\", \"INDEFATIGABLE\", \"INDISPENSIBLE\", \"LOYAL\", \"LOVE\", \"LIBERTY\",\n",
    "            \"PERSEVERANCE\", \"ADVENTURE\", \"SATISFACTION\", \"WELCOME\", \"WELFARE\"\n",
    "        ],\n",
    "        \"other\":\n",
    "        [\n",
    "            \"AUTOMATIA\", \"ROSE\", \"PEARL\", \"CLAW\", \"CHESTNUT\", \"CROWN\", \"DARLING\", \"DIAMOND\", \"EMERALD\"\n",
    "        ]\n",
    "    }\n",
    "    for classification in class_dict.keys():\n",
    "        for word in class_dict[classification]:\n",
    "            if word in name:\n",
    "                return classification\n",
    "ship_names_df[\"name_class\"] = ship_names_df[\"name\"].apply(name_classifier)\n",
    "print(ship_names_df[\"name_class\"].value_counts(dropna = False))"
   ]
  },
  {
   "cell_type": "code",
   "execution_count": null,
   "id": "9989850b",
   "metadata": {},
   "outputs": [],
   "source": []
  },
  {
   "cell_type": "markdown",
   "id": "796aaff4",
   "metadata": {},
   "source": [
    "Size over time"
   ]
  },
  {
   "cell_type": "code",
   "execution_count": null,
   "id": "35c92bac",
   "metadata": {},
   "outputs": [],
   "source": []
  }
 ],
 "metadata": {
  "kernelspec": {
   "display_name": "Python 3 (ipykernel)",
   "language": "python",
   "name": "python3"
  },
  "language_info": {
   "codemirror_mode": {
    "name": "ipython",
    "version": 3
   },
   "file_extension": ".py",
   "mimetype": "text/x-python",
   "name": "python",
   "nbconvert_exporter": "python",
   "pygments_lexer": "ipython3",
   "version": "3.9.12"
  }
 },
 "nbformat": 4,
 "nbformat_minor": 5
}
